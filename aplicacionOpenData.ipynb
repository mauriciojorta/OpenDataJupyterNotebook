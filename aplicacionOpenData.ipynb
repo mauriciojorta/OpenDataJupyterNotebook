{
 "cells": [
  {
   "cell_type": "markdown",
   "metadata": {},
   "source": [
    "## Paradas de Bus y de Taxi en puntos turísticos de Santa Cruz de Tenerife\n",
    "\n",
    "<p>Pequeño notebook jupyter que muestra señalados en un mapa como marcadores azules las paradas de Bus turístico de Santa Cruz de Tenerife y las paradas de taxi cercanas a ellas como marcadores rojos.</p>\n",
    "\n",
    "<b>Autor:</b> Mauricio José Orta Rodríguez.\n",
    "\n",
    "<b>Licencia de la aplicación:</b>\n",
    "\n",
    "[Creative Commons Reconocimiento 4.0](https://creativecommons.org/licenses/by/4.0/deed.es_ES).\n",
    "\n",
    "<b>Datos usados:</b> \n",
    "\n",
    "[Paradas de Bus Turístico CSV](http://opendatacanarias.es/datos/dataset/ayuntamiento-de-santa-cruz-de-tenerife-paradas-del-bus-turistico/resource/7132b5e1-59bd-425e-8294-37aa593027f7)\n",
    "\n",
    "[Paradas de taxi JSON](http://opendatacanarias.es/datos/dataset/ayuntamiento-de-santa-cruz-de-tenerife-paradas-de-taxi/resource/a09a1850-a9b0-45e9-b9b3-24cab6b65d31)\n",
    "\n",
    "<b>Licencia de los datos:</b> \n",
    "\n",
    "[Creative Commons Attribution](http://www.opendefinition.org/licenses/cc-by)"
   ]
  },
  {
   "cell_type": "code",
   "execution_count": 1,
   "metadata": {
    "collapsed": false
   },
   "outputs": [],
   "source": [
    "# Librerías\n",
    "from IPython.display import HTML\n",
    "import pandas as pd\n",
    "import folium\n",
    "import json\n",
    "import requests\n",
    "from matplotlib.colors import Normalize, rgb2hex\n",
    "import matplotlib.cm as cm"
   ]
  },
  {
   "cell_type": "code",
   "execution_count": 2,
   "metadata": {
    "collapsed": false
   },
   "outputs": [
    {
     "name": "stdout",
     "output_type": "stream",
     "text": [
      "40\n"
     ]
    }
   ],
   "source": [
    "data = pd.read_csv('http://www.santacruzdetenerife.es/opendata/dataset/07e107d2-209a-4bfa-862e-00fcf497ae1d/resource/7132b5e1-59bd-425e-8294-37aa593027f7/download/busturisticoparadas.csv')\n",
    "\n",
    "response = requests.get('http://www.santacruzdetenerife.es/opendata/dataset/b4961b60-5310-494c-a2e5-d9a8f3d9aad3/resource/a09a1850-a9b0-45e9-b9b3-24cab6b65d31/download/paradastaxi.json')\n",
    "data2 = response.json() \n",
    "print(len(data2[\"docs\"]))\n"
   ]
  },
  {
   "cell_type": "code",
   "execution_count": 3,
   "metadata": {
    "collapsed": true
   },
   "outputs": [],
   "source": [
    "map = folium.Map(location=[28.45, -16.2333], tiles='Stamen Terrain', zoom_start=12)"
   ]
  },
  {
   "cell_type": "code",
   "execution_count": 4,
   "metadata": {
    "collapsed": false
   },
   "outputs": [],
   "source": [
    "for eq in data.iterrows():\n",
    "    folium.Marker(location=[eq[1]['GRAD_Y'], eq[1]['GRAD_X']], \n",
    "                    popup=eq[1]['NOMBRE']\n",
    ").add_to(map)\n",
    "    for parada in data2[\"docs\"]:\n",
    "          if abs(eq[1]['GRAD_X']-parada[\"geometry\"][\"coordinates\"][0]) < 0.003 and abs(eq[1]['GRAD_Y']-parada[\"geometry\"][\"coordinates\"][1]) < 0.003:\n",
    "                folium.Marker(location=[parada[\"geometry\"][\"coordinates\"][1], parada[\"geometry\"][\"coordinates\"][0]], \n",
    "                    popup=parada['DIRECCION'] + ', ' +parada['Barrio'], icon = folium.Icon(color ='red')).add_to(map)                                                                                              "
   ]
  },
  {
   "cell_type": "code",
   "execution_count": 5,
   "metadata": {
    "collapsed": true
   },
   "outputs": [],
   "source": [
    "map.save('paradas_turisticas.html')"
   ]
  },
  {
   "cell_type": "code",
   "execution_count": 6,
   "metadata": {
    "collapsed": false,
    "scrolled": true
   },
   "outputs": [
    {
     "data": {
      "text/html": [
       "<iframe src=paradas_turisticas.html width=100% height=350></iframe>"
      ],
      "text/plain": [
       "<IPython.core.display.HTML object>"
      ]
     },
     "execution_count": 6,
     "metadata": {},
     "output_type": "execute_result"
    }
   ],
   "source": [
    "HTML('<iframe src=paradas_turisticas.html width=100% height=350></iframe>')"
   ]
  }
 ],
 "metadata": {
  "anaconda-cloud": {},
  "celltoolbar": "Raw Cell Format",
  "kernelspec": {
   "display_name": "Python [conda root]",
   "language": "python",
   "name": "conda-root-py"
  },
  "language_info": {
   "codemirror_mode": {
    "name": "ipython",
    "version": 3
   },
   "file_extension": ".py",
   "mimetype": "text/x-python",
   "name": "python",
   "nbconvert_exporter": "python",
   "pygments_lexer": "ipython3",
   "version": "3.5.2"
  }
 },
 "nbformat": 4,
 "nbformat_minor": 1
}
